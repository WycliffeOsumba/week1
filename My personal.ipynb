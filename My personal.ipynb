{
 "cells": [
  {
   "cell_type": "code",
   "execution_count": 1,
   "id": "00a4200e",
   "metadata": {},
   "outputs": [],
   "source": [
    "my_integer = 7\n",
    "my_float = 3.14\n",
    "my_string = \"Hello, Python!\"\n",
    "my_boolean = True"
   ]
  },
  {
   "cell_type": "code",
   "execution_count": 2,
   "id": "a77b3560",
   "metadata": {},
   "outputs": [
    {
     "name": "stdout",
     "output_type": "stream",
     "text": [
      "my_integer: 7 Type: <class 'int'>\n"
     ]
    }
   ],
   "source": [
    "print(\"my_integer:\", my_integer, \"Type:\", type(my_integer))\n"
   ]
  },
  {
   "cell_type": "code",
   "execution_count": 3,
   "id": "bc5ff959",
   "metadata": {},
   "outputs": [
    {
     "name": "stdout",
     "output_type": "stream",
     "text": [
      "my_float: 3.14 Type: <class 'float'>\n"
     ]
    }
   ],
   "source": [
    "print(\"my_float:\", my_float, \"Type:\", type(my_float))\n"
   ]
  },
  {
   "cell_type": "code",
   "execution_count": 4,
   "id": "bb134fc6",
   "metadata": {},
   "outputs": [
    {
     "name": "stdout",
     "output_type": "stream",
     "text": [
      "my_string: Hello, Python! Type: <class 'str'>\n"
     ]
    }
   ],
   "source": [
    "print(\"my_string:\", my_string, \"Type:\", type(my_string))\n"
   ]
  },
  {
   "cell_type": "code",
   "execution_count": 5,
   "id": "192d4b0e",
   "metadata": {},
   "outputs": [
    {
     "name": "stdout",
     "output_type": "stream",
     "text": [
      "my_boolean: True Type: <class 'bool'>\n"
     ]
    }
   ],
   "source": [
    "print(\"my_boolean:\", my_boolean, \"Type:\", type(my_boolean))"
   ]
  },
  {
   "cell_type": "code",
   "execution_count": null,
   "id": "dd933eb1",
   "metadata": {},
   "outputs": [],
   "source": []
  },
  {
   "cell_type": "code",
   "execution_count": null,
   "id": "78157a92",
   "metadata": {},
   "outputs": [],
   "source": []
  },
  {
   "cell_type": "code",
   "execution_count": null,
   "id": "ec3bf883",
   "metadata": {},
   "outputs": [],
   "source": []
  }
 ],
 "metadata": {
  "kernelspec": {
   "display_name": "Python 3 (ipykernel)",
   "language": "python",
   "name": "python3"
  },
  "language_info": {
   "codemirror_mode": {
    "name": "ipython",
    "version": 3
   },
   "file_extension": ".py",
   "mimetype": "text/x-python",
   "name": "python",
   "nbconvert_exporter": "python",
   "pygments_lexer": "ipython3",
   "version": "3.11.4"
  }
 },
 "nbformat": 4,
 "nbformat_minor": 5
}
